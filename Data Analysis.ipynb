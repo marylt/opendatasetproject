{
 "cells": [
  {
   "cell_type": "markdown",
   "metadata": {},
   "source": [
    "**Importing Packages**"
   ]
  },
  {
   "cell_type": "code",
   "execution_count": 1,
   "metadata": {},
   "outputs": [],
   "source": [
    "# importing packages\n",
    "\n",
    "import numpy as np\n",
    "import pandas as pd\n",
    "import matplotlib.pyplot as plt\n",
    "%matplotlib inline"
   ]
  },
  {
   "cell_type": "markdown",
   "metadata": {},
   "source": [
    "**Reading in Data**"
   ]
  },
  {
   "cell_type": "code",
   "execution_count": 2,
   "metadata": {},
   "outputs": [
    {
     "data": {
      "text/html": [
       "<div>\n",
       "<style scoped>\n",
       "    .dataframe tbody tr th:only-of-type {\n",
       "        vertical-align: middle;\n",
       "    }\n",
       "\n",
       "    .dataframe tbody tr th {\n",
       "        vertical-align: top;\n",
       "    }\n",
       "\n",
       "    .dataframe thead th {\n",
       "        text-align: right;\n",
       "    }\n",
       "</style>\n",
       "<table border=\"1\" class=\"dataframe\">\n",
       "  <thead>\n",
       "    <tr style=\"text-align: right;\">\n",
       "      <th></th>\n",
       "      <th>Unnamed: 0</th>\n",
       "      <th>State</th>\n",
       "      <th>Year</th>\n",
       "      <th>Month</th>\n",
       "      <th>Indicator</th>\n",
       "      <th>Data Value</th>\n",
       "      <th>Percent Complete</th>\n",
       "      <th>Percent Pending Investigation</th>\n",
       "      <th>State Name</th>\n",
       "      <th>Predicted Value</th>\n",
       "    </tr>\n",
       "  </thead>\n",
       "  <tbody>\n",
       "    <tr>\n",
       "      <th>0</th>\n",
       "      <td>8</td>\n",
       "      <td>AK</td>\n",
       "      <td>2015</td>\n",
       "      <td>April</td>\n",
       "      <td>Number of Drug Overdose Deaths</td>\n",
       "      <td>126</td>\n",
       "      <td>100.0</td>\n",
       "      <td>0.0</td>\n",
       "      <td>Alaska</td>\n",
       "      <td>126</td>\n",
       "    </tr>\n",
       "    <tr>\n",
       "      <th>1</th>\n",
       "      <td>21</td>\n",
       "      <td>AK</td>\n",
       "      <td>2015</td>\n",
       "      <td>August</td>\n",
       "      <td>Number of Drug Overdose Deaths</td>\n",
       "      <td>124</td>\n",
       "      <td>100.0</td>\n",
       "      <td>0.0</td>\n",
       "      <td>Alaska</td>\n",
       "      <td>124</td>\n",
       "    </tr>\n",
       "    <tr>\n",
       "      <th>2</th>\n",
       "      <td>34</td>\n",
       "      <td>AK</td>\n",
       "      <td>2015</td>\n",
       "      <td>December</td>\n",
       "      <td>Number of Drug Overdose Deaths</td>\n",
       "      <td>121</td>\n",
       "      <td>100.0</td>\n",
       "      <td>0.0</td>\n",
       "      <td>Alaska</td>\n",
       "      <td>121</td>\n",
       "    </tr>\n",
       "    <tr>\n",
       "      <th>3</th>\n",
       "      <td>36</td>\n",
       "      <td>AK</td>\n",
       "      <td>2015</td>\n",
       "      <td>February</td>\n",
       "      <td>Number of Drug Overdose Deaths</td>\n",
       "      <td>127</td>\n",
       "      <td>100.0</td>\n",
       "      <td>0.0</td>\n",
       "      <td>Alaska</td>\n",
       "      <td>127</td>\n",
       "    </tr>\n",
       "    <tr>\n",
       "      <th>4</th>\n",
       "      <td>52</td>\n",
       "      <td>AK</td>\n",
       "      <td>2015</td>\n",
       "      <td>January</td>\n",
       "      <td>Number of Drug Overdose Deaths</td>\n",
       "      <td>126</td>\n",
       "      <td>100.0</td>\n",
       "      <td>0.0</td>\n",
       "      <td>Alaska</td>\n",
       "      <td>126</td>\n",
       "    </tr>\n",
       "  </tbody>\n",
       "</table>\n",
       "</div>"
      ],
      "text/plain": [
       "   Unnamed: 0 State  Year     Month                       Indicator  \\\n",
       "0           8    AK  2015     April  Number of Drug Overdose Deaths   \n",
       "1          21    AK  2015    August  Number of Drug Overdose Deaths   \n",
       "2          34    AK  2015  December  Number of Drug Overdose Deaths   \n",
       "3          36    AK  2015  February  Number of Drug Overdose Deaths   \n",
       "4          52    AK  2015   January  Number of Drug Overdose Deaths   \n",
       "\n",
       "   Data Value  Percent Complete  Percent Pending Investigation State Name  \\\n",
       "0         126             100.0                            0.0     Alaska   \n",
       "1         124             100.0                            0.0     Alaska   \n",
       "2         121             100.0                            0.0     Alaska   \n",
       "3         127             100.0                            0.0     Alaska   \n",
       "4         126             100.0                            0.0     Alaska   \n",
       "\n",
       "   Predicted Value  \n",
       "0              126  \n",
       "1              124  \n",
       "2              121  \n",
       "3              127  \n",
       "4              126  "
      ]
     },
     "execution_count": 2,
     "metadata": {},
     "output_type": "execute_result"
    }
   ],
   "source": [
    "# reading in data\n",
    "\n",
    "df = pd.read_csv(\"CleanedData1.csv\")\n",
    "df.head()"
   ]
  },
  {
   "cell_type": "code",
   "execution_count": 4,
   "metadata": {},
   "outputs": [],
   "source": [
    "# dropping Unnamed: 0 as it is just an index number from the original dataset\n",
    "\n",
    "del df['Unnamed: 0']"
   ]
  },
  {
   "cell_type": "code",
   "execution_count": 5,
   "metadata": {},
   "outputs": [
    {
     "data": {
      "text/html": [
       "<div>\n",
       "<style scoped>\n",
       "    .dataframe tbody tr th:only-of-type {\n",
       "        vertical-align: middle;\n",
       "    }\n",
       "\n",
       "    .dataframe tbody tr th {\n",
       "        vertical-align: top;\n",
       "    }\n",
       "\n",
       "    .dataframe thead th {\n",
       "        text-align: right;\n",
       "    }\n",
       "</style>\n",
       "<table border=\"1\" class=\"dataframe\">\n",
       "  <thead>\n",
       "    <tr style=\"text-align: right;\">\n",
       "      <th></th>\n",
       "      <th>State</th>\n",
       "      <th>Year</th>\n",
       "      <th>Month</th>\n",
       "      <th>Indicator</th>\n",
       "      <th>Data Value</th>\n",
       "      <th>Percent Complete</th>\n",
       "      <th>Percent Pending Investigation</th>\n",
       "      <th>State Name</th>\n",
       "      <th>Predicted Value</th>\n",
       "    </tr>\n",
       "  </thead>\n",
       "  <tbody>\n",
       "    <tr>\n",
       "      <th>0</th>\n",
       "      <td>AK</td>\n",
       "      <td>2015</td>\n",
       "      <td>April</td>\n",
       "      <td>Number of Drug Overdose Deaths</td>\n",
       "      <td>126</td>\n",
       "      <td>100.0</td>\n",
       "      <td>0.0</td>\n",
       "      <td>Alaska</td>\n",
       "      <td>126</td>\n",
       "    </tr>\n",
       "    <tr>\n",
       "      <th>1</th>\n",
       "      <td>AK</td>\n",
       "      <td>2015</td>\n",
       "      <td>August</td>\n",
       "      <td>Number of Drug Overdose Deaths</td>\n",
       "      <td>124</td>\n",
       "      <td>100.0</td>\n",
       "      <td>0.0</td>\n",
       "      <td>Alaska</td>\n",
       "      <td>124</td>\n",
       "    </tr>\n",
       "    <tr>\n",
       "      <th>2</th>\n",
       "      <td>AK</td>\n",
       "      <td>2015</td>\n",
       "      <td>December</td>\n",
       "      <td>Number of Drug Overdose Deaths</td>\n",
       "      <td>121</td>\n",
       "      <td>100.0</td>\n",
       "      <td>0.0</td>\n",
       "      <td>Alaska</td>\n",
       "      <td>121</td>\n",
       "    </tr>\n",
       "    <tr>\n",
       "      <th>3</th>\n",
       "      <td>AK</td>\n",
       "      <td>2015</td>\n",
       "      <td>February</td>\n",
       "      <td>Number of Drug Overdose Deaths</td>\n",
       "      <td>127</td>\n",
       "      <td>100.0</td>\n",
       "      <td>0.0</td>\n",
       "      <td>Alaska</td>\n",
       "      <td>127</td>\n",
       "    </tr>\n",
       "    <tr>\n",
       "      <th>4</th>\n",
       "      <td>AK</td>\n",
       "      <td>2015</td>\n",
       "      <td>January</td>\n",
       "      <td>Number of Drug Overdose Deaths</td>\n",
       "      <td>126</td>\n",
       "      <td>100.0</td>\n",
       "      <td>0.0</td>\n",
       "      <td>Alaska</td>\n",
       "      <td>126</td>\n",
       "    </tr>\n",
       "  </tbody>\n",
       "</table>\n",
       "</div>"
      ],
      "text/plain": [
       "  State  Year     Month                       Indicator  Data Value  \\\n",
       "0    AK  2015     April  Number of Drug Overdose Deaths         126   \n",
       "1    AK  2015    August  Number of Drug Overdose Deaths         124   \n",
       "2    AK  2015  December  Number of Drug Overdose Deaths         121   \n",
       "3    AK  2015  February  Number of Drug Overdose Deaths         127   \n",
       "4    AK  2015   January  Number of Drug Overdose Deaths         126   \n",
       "\n",
       "   Percent Complete  Percent Pending Investigation State Name  Predicted Value  \n",
       "0             100.0                            0.0     Alaska              126  \n",
       "1             100.0                            0.0     Alaska              124  \n",
       "2             100.0                            0.0     Alaska              121  \n",
       "3             100.0                            0.0     Alaska              127  \n",
       "4             100.0                            0.0     Alaska              126  "
      ]
     },
     "execution_count": 5,
     "metadata": {},
     "output_type": "execute_result"
    }
   ],
   "source": [
    "# seeing first few rows of data\n",
    "\n",
    "df.head()"
   ]
  },
  {
   "cell_type": "markdown",
   "metadata": {},
   "source": [
    "**Dataset Information/Statistics**"
   ]
  },
  {
   "cell_type": "code",
   "execution_count": 6,
   "metadata": {},
   "outputs": [
    {
     "data": {
      "text/plain": [
       "(20577, 9)"
      ]
     },
     "execution_count": 6,
     "metadata": {},
     "output_type": "execute_result"
    }
   ],
   "source": [
    "# seeing how many rows and columns are in the dataset\n",
    "\n",
    "df.shape"
   ]
  },
  {
   "cell_type": "code",
   "execution_count": 24,
   "metadata": {},
   "outputs": [
    {
     "name": "stdout",
     "output_type": "stream",
     "text": [
      "<class 'pandas.core.frame.DataFrame'>\n",
      "RangeIndex: 20577 entries, 0 to 20576\n",
      "Data columns (total 9 columns):\n",
      " #   Column                         Non-Null Count  Dtype  \n",
      "---  ------                         --------------  -----  \n",
      " 0   State                          20577 non-null  object \n",
      " 1   Year                           20577 non-null  int64  \n",
      " 2   Month                          20577 non-null  object \n",
      " 3   Indicator                      20577 non-null  object \n",
      " 4   Data Value                     20577 non-null  int64  \n",
      " 5   Percent Complete               20577 non-null  float64\n",
      " 6   Percent Pending Investigation  20577 non-null  float64\n",
      " 7   State Name                     20577 non-null  object \n",
      " 8   Predicted Value                20577 non-null  int64  \n",
      "dtypes: float64(2), int64(3), object(4)\n",
      "memory usage: 1.4+ MB\n"
     ]
    }
   ],
   "source": [
    "# see what data types there are in the dataset\n",
    "\n",
    "df.info()"
   ]
  },
  {
   "cell_type": "code",
   "execution_count": 25,
   "metadata": {},
   "outputs": [
    {
     "data": {
      "text/html": [
       "<div>\n",
       "<style scoped>\n",
       "    .dataframe tbody tr th:only-of-type {\n",
       "        vertical-align: middle;\n",
       "    }\n",
       "\n",
       "    .dataframe tbody tr th {\n",
       "        vertical-align: top;\n",
       "    }\n",
       "\n",
       "    .dataframe thead th {\n",
       "        text-align: right;\n",
       "    }\n",
       "</style>\n",
       "<table border=\"1\" class=\"dataframe\">\n",
       "  <thead>\n",
       "    <tr style=\"text-align: right;\">\n",
       "      <th></th>\n",
       "      <th>Year</th>\n",
       "      <th>Data Value</th>\n",
       "      <th>Percent Complete</th>\n",
       "      <th>Percent Pending Investigation</th>\n",
       "      <th>Predicted Value</th>\n",
       "    </tr>\n",
       "  </thead>\n",
       "  <tbody>\n",
       "    <tr>\n",
       "      <th>count</th>\n",
       "      <td>20577.000000</td>\n",
       "      <td>20577.000000</td>\n",
       "      <td>20577.000000</td>\n",
       "      <td>20577.000000</td>\n",
       "      <td>20577.000000</td>\n",
       "    </tr>\n",
       "    <tr>\n",
       "      <th>mean</th>\n",
       "      <td>2017.299995</td>\n",
       "      <td>1199.325363</td>\n",
       "      <td>99.998591</td>\n",
       "      <td>0.123051</td>\n",
       "      <td>1218.960052</td>\n",
       "    </tr>\n",
       "    <tr>\n",
       "      <th>std</th>\n",
       "      <td>1.483763</td>\n",
       "      <td>5042.060784</td>\n",
       "      <td>0.033766</td>\n",
       "      <td>0.166313</td>\n",
       "      <td>5117.793705</td>\n",
       "    </tr>\n",
       "    <tr>\n",
       "      <th>min</th>\n",
       "      <td>2015.000000</td>\n",
       "      <td>10.000000</td>\n",
       "      <td>98.900000</td>\n",
       "      <td>0.000000</td>\n",
       "      <td>10.000000</td>\n",
       "    </tr>\n",
       "    <tr>\n",
       "      <th>25%</th>\n",
       "      <td>2016.000000</td>\n",
       "      <td>89.000000</td>\n",
       "      <td>100.000000</td>\n",
       "      <td>0.017647</td>\n",
       "      <td>90.000000</td>\n",
       "    </tr>\n",
       "    <tr>\n",
       "      <th>50%</th>\n",
       "      <td>2017.000000</td>\n",
       "      <td>286.000000</td>\n",
       "      <td>100.000000</td>\n",
       "      <td>0.052672</td>\n",
       "      <td>289.000000</td>\n",
       "    </tr>\n",
       "    <tr>\n",
       "      <th>75%</th>\n",
       "      <td>2019.000000</td>\n",
       "      <td>695.000000</td>\n",
       "      <td>100.000000</td>\n",
       "      <td>0.159506</td>\n",
       "      <td>710.000000</td>\n",
       "    </tr>\n",
       "    <tr>\n",
       "      <th>max</th>\n",
       "      <td>2020.000000</td>\n",
       "      <td>72780.000000</td>\n",
       "      <td>100.000000</td>\n",
       "      <td>1.411568</td>\n",
       "      <td>74144.000000</td>\n",
       "    </tr>\n",
       "  </tbody>\n",
       "</table>\n",
       "</div>"
      ],
      "text/plain": [
       "               Year    Data Value  Percent Complete  \\\n",
       "count  20577.000000  20577.000000      20577.000000   \n",
       "mean    2017.299995   1199.325363         99.998591   \n",
       "std        1.483763   5042.060784          0.033766   \n",
       "min     2015.000000     10.000000         98.900000   \n",
       "25%     2016.000000     89.000000        100.000000   \n",
       "50%     2017.000000    286.000000        100.000000   \n",
       "75%     2019.000000    695.000000        100.000000   \n",
       "max     2020.000000  72780.000000        100.000000   \n",
       "\n",
       "       Percent Pending Investigation  Predicted Value  \n",
       "count                   20577.000000     20577.000000  \n",
       "mean                        0.123051      1218.960052  \n",
       "std                         0.166313      5117.793705  \n",
       "min                         0.000000        10.000000  \n",
       "25%                         0.017647        90.000000  \n",
       "50%                         0.052672       289.000000  \n",
       "75%                         0.159506       710.000000  \n",
       "max                         1.411568     74144.000000  "
      ]
     },
     "execution_count": 25,
     "metadata": {},
     "output_type": "execute_result"
    }
   ],
   "source": [
    "# see statistical summary for all columns (ignore year, only ranges from 2015-2020)\n",
    "\n",
    "df.describe()"
   ]
  },
  {
   "cell_type": "code",
   "execution_count": 15,
   "metadata": {},
   "outputs": [
    {
     "data": {
      "text/plain": [
       "VA    620\n",
       "ME    620\n",
       "WV    620\n",
       "OK    620\n",
       "CT    620\n",
       "MD    620\n",
       "SC    620\n",
       "OR    620\n",
       "US    620\n",
       "NC    620\n",
       "YC    620\n",
       "NM    620\n",
       "NV    620\n",
       "NY    620\n",
       "UT    620\n",
       "WA    620\n",
       "IL    602\n",
       "RI    597\n",
       "IA    597\n",
       "TN    593\n",
       "OH    593\n",
       "DC    573\n",
       "NH    570\n",
       "GA    557\n",
       "VT    525\n",
       "MA    521\n",
       "WI    521\n",
       "AK    485\n",
       "HI    362\n",
       "AZ    359\n",
       "SD    329\n",
       "KY    287\n",
       "DE    274\n",
       "WY    266\n",
       "NJ    251\n",
       "MO    242\n",
       "TX    197\n",
       "MS    174\n",
       "IN    170\n",
       "CA    143\n",
       "KS    125\n",
       "AR     62\n",
       "LA     62\n",
       "FL     62\n",
       "MN     62\n",
       "CO     62\n",
       "MI     62\n",
       "ID     62\n",
       "NE     62\n",
       "PA     62\n",
       "AL     62\n",
       "ND     62\n",
       "MT     62\n",
       "Name: State, dtype: int64"
      ]
     },
     "execution_count": 15,
     "metadata": {},
     "output_type": "execute_result"
    }
   ],
   "source": [
    "# seeing what values are inside State column\n",
    "\n",
    "df['State'].value_counts()"
   ]
  },
  {
   "cell_type": "code",
   "execution_count": 16,
   "metadata": {},
   "outputs": [
    {
     "data": {
      "text/plain": [
       "2019    4774\n",
       "2018    4234\n",
       "2017    3876\n",
       "2016    3682\n",
       "2015    3192\n",
       "2020     819\n",
       "Name: Year, dtype: int64"
      ]
     },
     "execution_count": 16,
     "metadata": {},
     "output_type": "execute_result"
    }
   ],
   "source": [
    "# seeing what values are inside Year column\n",
    "\n",
    "df['Year'].value_counts()"
   ]
  },
  {
   "cell_type": "code",
   "execution_count": 17,
   "metadata": {},
   "outputs": [
    {
     "data": {
      "text/plain": [
       "February     1998\n",
       "January      1955\n",
       "November     1700\n",
       "December     1694\n",
       "October      1687\n",
       "September    1682\n",
       "August       1676\n",
       "June         1652\n",
       "July         1651\n",
       "May          1636\n",
       "April        1630\n",
       "March        1616\n",
       "Name: Month, dtype: int64"
      ]
     },
     "execution_count": 17,
     "metadata": {},
     "output_type": "execute_result"
    }
   ],
   "source": [
    "# seeing what values are inside Month column\n",
    "\n",
    "df['Month'].value_counts()"
   ]
  },
  {
   "cell_type": "code",
   "execution_count": 18,
   "metadata": {},
   "outputs": [
    {
     "data": {
      "text/plain": [
       "Number of Drug Overdose Deaths                                                 3286\n",
       "Natural, semi-synthetic, & synthetic opioids, incl. methadone (T40.2-T40.4)    1986\n",
       "Opioids (T40.0-T40.4,T40.6)                                                    1986\n",
       "Natural & semi-synthetic opioids, incl. methadone (T40.2, T40.3)               1982\n",
       "Natural & semi-synthetic opioids (T40.2)                                       1977\n",
       "Synthetic opioids, excl. methadone (T40.4)                                     1964\n",
       "Heroin (T40.1)                                                                 1893\n",
       "Cocaine (T40.5)                                                                1871\n",
       "Psychostimulants with abuse potential (T43.6)                                  1839\n",
       "Methadone (T40.3)                                                              1793\n",
       "Name: Indicator, dtype: int64"
      ]
     },
     "execution_count": 18,
     "metadata": {},
     "output_type": "execute_result"
    }
   ],
   "source": [
    "# seeing what values are inside Indicator column\n",
    "\n",
    "df['Indicator'].value_counts()"
   ]
  },
  {
   "cell_type": "code",
   "execution_count": 19,
   "metadata": {},
   "outputs": [
    {
     "data": {
      "text/plain": [
       "31       113\n",
       "10        96\n",
       "37        91\n",
       "29        90\n",
       "39        88\n",
       "        ... \n",
       "1866       1\n",
       "2964       1\n",
       "1850       1\n",
       "21407      1\n",
       "2031       1\n",
       "Name: Data Value, Length: 3182, dtype: int64"
      ]
     },
     "execution_count": 19,
     "metadata": {},
     "output_type": "execute_result"
    }
   ],
   "source": [
    "# seeing what values are inside Data Value column\n",
    "\n",
    "df['Data Value'].value_counts()"
   ]
  },
  {
   "cell_type": "code",
   "execution_count": 20,
   "metadata": {},
   "outputs": [
    {
     "data": {
      "text/plain": [
       "100.0    20537\n",
       "99.5        20\n",
       "99.2        10\n",
       "98.9        10\n",
       "Name: Percent Complete, dtype: int64"
      ]
     },
     "execution_count": 20,
     "metadata": {},
     "output_type": "execute_result"
    }
   ],
   "source": [
    "# seeing what values are inside Percent Complete column\n",
    "\n",
    "df['Percent Complete'].value_counts()"
   ]
  },
  {
   "cell_type": "code",
   "execution_count": 21,
   "metadata": {},
   "outputs": [
    {
     "data": {
      "text/plain": [
       "0.000000    2127\n",
       "0.055187      20\n",
       "0.016581      20\n",
       "0.201884      20\n",
       "0.010358      20\n",
       "            ... \n",
       "0.153899       1\n",
       "0.029025       1\n",
       "0.006172       1\n",
       "0.150921       1\n",
       "0.164378       1\n",
       "Name: Percent Pending Investigation, Length: 2898, dtype: int64"
      ]
     },
     "execution_count": 21,
     "metadata": {},
     "output_type": "execute_result"
    }
   ],
   "source": [
    "# seeing what values are inside Percent Pending Investigation column\n",
    "\n",
    "df['Percent Pending Investigation'].value_counts()"
   ]
  },
  {
   "cell_type": "code",
   "execution_count": 22,
   "metadata": {},
   "outputs": [
    {
     "data": {
      "text/plain": [
       "New York                620\n",
       "Utah                    620\n",
       "West Virginia           620\n",
       "Oklahoma                620\n",
       "Connecticut             620\n",
       "New Mexico              620\n",
       "Maryland                620\n",
       "Washington              620\n",
       "New York City           620\n",
       "Oregon                  620\n",
       "Virginia                620\n",
       "South Carolina          620\n",
       "Maine                   620\n",
       "North Carolina          620\n",
       "Nevada                  620\n",
       "United States           620\n",
       "Illinois                602\n",
       "Iowa                    597\n",
       "Rhode Island            597\n",
       "Ohio                    593\n",
       "Tennessee               593\n",
       "District of Columbia    573\n",
       "New Hampshire           570\n",
       "Georgia                 557\n",
       "Vermont                 525\n",
       "Wisconsin               521\n",
       "Massachusetts           521\n",
       "Alaska                  485\n",
       "Hawaii                  362\n",
       "Arizona                 359\n",
       "South Dakota            329\n",
       "Kentucky                287\n",
       "Delaware                274\n",
       "Wyoming                 266\n",
       "New Jersey              251\n",
       "Missouri                242\n",
       "Texas                   197\n",
       "Mississippi             174\n",
       "Indiana                 170\n",
       "California              143\n",
       "Kansas                  125\n",
       "North Dakota             62\n",
       "Colorado                 62\n",
       "Minnesota                62\n",
       "Arkansas                 62\n",
       "Nebraska                 62\n",
       "Florida                  62\n",
       "Idaho                    62\n",
       "Louisiana                62\n",
       "Michigan                 62\n",
       "Montana                  62\n",
       "Alabama                  62\n",
       "Pennsylvania             62\n",
       "Name: State Name, dtype: int64"
      ]
     },
     "execution_count": 22,
     "metadata": {},
     "output_type": "execute_result"
    }
   ],
   "source": [
    "# seeing what values are inside State Name column\n",
    "\n",
    "df['State Name'].value_counts()"
   ]
  },
  {
   "cell_type": "code",
   "execution_count": 23,
   "metadata": {},
   "outputs": [
    {
     "data": {
      "text/plain": [
       "31      103\n",
       "32      100\n",
       "11       94\n",
       "40       93\n",
       "30       90\n",
       "       ... \n",
       "3449      1\n",
       "1448      1\n",
       "1464      1\n",
       "3513      1\n",
       "2049      1\n",
       "Name: Predicted Value, Length: 3186, dtype: int64"
      ]
     },
     "execution_count": 23,
     "metadata": {},
     "output_type": "execute_result"
    }
   ],
   "source": [
    "# seeing what values are inside Predicted Value column\n",
    "\n",
    "df['Predicted Value'].value_counts()"
   ]
  },
  {
   "cell_type": "markdown",
   "metadata": {},
   "source": [
    "**Data Wrangling**"
   ]
  },
  {
   "cell_type": "code",
   "execution_count": 29,
   "metadata": {},
   "outputs": [],
   "source": [
    "# organizing the data by year\n",
    "\n",
    "y2015= df.loc[df['Year']==2015]\n",
    "y2016= df.loc[df['Year']==2016]\n",
    "y2017= df.loc[df['Year']==2017]\n",
    "y2018= df.loc[df['Year']==2018]\n",
    "y2019= df.loc[df['Year']==2019]\n",
    "y2020= df.loc[df['Year']==2020]"
   ]
  },
  {
   "cell_type": "markdown",
   "metadata": {},
   "source": [
    "**Data Analytics**"
   ]
  },
  {
   "cell_type": "markdown",
   "metadata": {},
   "source": [
    "*Finding the average predicted values per month in 2015*"
   ]
  },
  {
   "cell_type": "code",
   "execution_count": 31,
   "metadata": {},
   "outputs": [
    {
     "data": {
      "text/html": [
       "<div>\n",
       "<style scoped>\n",
       "    .dataframe tbody tr th:only-of-type {\n",
       "        vertical-align: middle;\n",
       "    }\n",
       "\n",
       "    .dataframe tbody tr th {\n",
       "        vertical-align: top;\n",
       "    }\n",
       "\n",
       "    .dataframe thead th {\n",
       "        text-align: right;\n",
       "    }\n",
       "</style>\n",
       "<table border=\"1\" class=\"dataframe\">\n",
       "  <thead>\n",
       "    <tr style=\"text-align: right;\">\n",
       "      <th></th>\n",
       "      <th>Predicted Value</th>\n",
       "    </tr>\n",
       "    <tr>\n",
       "      <th>Month</th>\n",
       "      <th></th>\n",
       "    </tr>\n",
       "  </thead>\n",
       "  <tbody>\n",
       "    <tr>\n",
       "      <th>April</th>\n",
       "      <td>993.796992</td>\n",
       "    </tr>\n",
       "    <tr>\n",
       "      <th>August</th>\n",
       "      <td>1035.356618</td>\n",
       "    </tr>\n",
       "    <tr>\n",
       "      <th>December</th>\n",
       "      <td>1071.626335</td>\n",
       "    </tr>\n",
       "    <tr>\n",
       "      <th>February</th>\n",
       "      <td>982.200803</td>\n",
       "    </tr>\n",
       "    <tr>\n",
       "      <th>January</th>\n",
       "      <td>994.404959</td>\n",
       "    </tr>\n",
       "    <tr>\n",
       "      <th>July</th>\n",
       "      <td>1043.045627</td>\n",
       "    </tr>\n",
       "    <tr>\n",
       "      <th>June</th>\n",
       "      <td>1029.859316</td>\n",
       "    </tr>\n",
       "    <tr>\n",
       "      <th>March</th>\n",
       "      <td>975.844358</td>\n",
       "    </tr>\n",
       "    <tr>\n",
       "      <th>May</th>\n",
       "      <td>1004.423221</td>\n",
       "    </tr>\n",
       "    <tr>\n",
       "      <th>November</th>\n",
       "      <td>1049.517857</td>\n",
       "    </tr>\n",
       "    <tr>\n",
       "      <th>October</th>\n",
       "      <td>1040.771429</td>\n",
       "    </tr>\n",
       "    <tr>\n",
       "      <th>September</th>\n",
       "      <td>1054.602941</td>\n",
       "    </tr>\n",
       "  </tbody>\n",
       "</table>\n",
       "</div>"
      ],
      "text/plain": [
       "           Predicted Value\n",
       "Month                     \n",
       "April           993.796992\n",
       "August         1035.356618\n",
       "December       1071.626335\n",
       "February        982.200803\n",
       "January         994.404959\n",
       "July           1043.045627\n",
       "June           1029.859316\n",
       "March           975.844358\n",
       "May            1004.423221\n",
       "November       1049.517857\n",
       "October        1040.771429\n",
       "September      1054.602941"
      ]
     },
     "execution_count": 31,
     "metadata": {},
     "output_type": "execute_result"
    }
   ],
   "source": [
    "# now that we have dataset variables for each year, we can dive deeper into analytics!\n",
    "# for example, let's see the average 'Predicted Value' for each month in 2015:\n",
    "\n",
    "pv_y2015 = y2015[['Month','Predicted Value']].groupby(['Month']).agg('mean')\n",
    "pv_y2015"
   ]
  },
  {
   "cell_type": "code",
   "execution_count": 34,
   "metadata": {},
   "outputs": [
    {
     "data": {
      "text/plain": [
       "Text(0.5, 1.0, 'Avg. Predicted Values for Months in 2015')"
      ]
     },
     "execution_count": 34,
     "metadata": {},
     "output_type": "execute_result"
    },
    {
     "data": {
      "image/png": "[encoded data removed]",
      "text/plain": [
       "<Figure size 432x288 with 1 Axes>"
      ]
     },
     "metadata": {
      "needs_background": "light"
     },
     "output_type": "display_data"
    }
   ],
   "source": [
    "# let's try visualizing that:\n",
    "# note that we may need to reset index if we want to use an index as a graph variable\n",
    "\n",
    "pv1_y2015 = pv_y2015.reset_index()\n",
    "graph = pv1_y2015.plot.bar(x='Month', y='Predicted Value')\n",
    "graph.set_ylabel('Avg. Predicted Value')\n",
    "graph.set_xlabel('Month')\n",
    "graph.set_title('Avg. Predicted Values for Months in 2015')"
   ]
  },
  {
   "cell_type": "markdown",
   "metadata": {},
   "source": [
    "*Finding the average predicted value per month in 2015 for Maryland*"
   ]
  },
  {
   "cell_type": "code",
   "execution_count": 36,
   "metadata": {},
   "outputs": [
    {
     "data": {
      "text/html": [
       "<div>\n",
       "<style scoped>\n",
       "    .dataframe tbody tr th:only-of-type {\n",
       "        vertical-align: middle;\n",
       "    }\n",
       "\n",
       "    .dataframe tbody tr th {\n",
       "        vertical-align: top;\n",
       "    }\n",
       "\n",
       "    .dataframe thead th {\n",
       "        text-align: right;\n",
       "    }\n",
       "</style>\n",
       "<table border=\"1\" class=\"dataframe\">\n",
       "  <thead>\n",
       "    <tr style=\"text-align: right;\">\n",
       "      <th></th>\n",
       "      <th>Predicted Value</th>\n",
       "    </tr>\n",
       "    <tr>\n",
       "      <th>Month</th>\n",
       "      <th></th>\n",
       "    </tr>\n",
       "  </thead>\n",
       "  <tbody>\n",
       "    <tr>\n",
       "      <th>April</th>\n",
       "      <td>458.1</td>\n",
       "    </tr>\n",
       "    <tr>\n",
       "      <th>August</th>\n",
       "      <td>467.1</td>\n",
       "    </tr>\n",
       "    <tr>\n",
       "      <th>December</th>\n",
       "      <td>534.6</td>\n",
       "    </tr>\n",
       "    <tr>\n",
       "      <th>February</th>\n",
       "      <td>457.2</td>\n",
       "    </tr>\n",
       "    <tr>\n",
       "      <th>January</th>\n",
       "      <td>441.5</td>\n",
       "    </tr>\n",
       "    <tr>\n",
       "      <th>July</th>\n",
       "      <td>459.9</td>\n",
       "    </tr>\n",
       "    <tr>\n",
       "      <th>June</th>\n",
       "      <td>453.9</td>\n",
       "    </tr>\n",
       "    <tr>\n",
       "      <th>March</th>\n",
       "      <td>459.1</td>\n",
       "    </tr>\n",
       "    <tr>\n",
       "      <th>May</th>\n",
       "      <td>459.4</td>\n",
       "    </tr>\n",
       "    <tr>\n",
       "      <th>November</th>\n",
       "      <td>519.0</td>\n",
       "    </tr>\n",
       "    <tr>\n",
       "      <th>October</th>\n",
       "      <td>506.8</td>\n",
       "    </tr>\n",
       "    <tr>\n",
       "      <th>September</th>\n",
       "      <td>485.7</td>\n",
       "    </tr>\n",
       "  </tbody>\n",
       "</table>\n",
       "</div>"
      ],
      "text/plain": [
       "           Predicted Value\n",
       "Month                     \n",
       "April                458.1\n",
       "August               467.1\n",
       "December             534.6\n",
       "February             457.2\n",
       "January              441.5\n",
       "July                 459.9\n",
       "June                 453.9\n",
       "March                459.1\n",
       "May                  459.4\n",
       "November             519.0\n",
       "October              506.8\n",
       "September            485.7"
      ]
     },
     "execution_count": 36,
     "metadata": {},
     "output_type": "execute_result"
    }
   ],
   "source": [
    "# let's try seeing the avg. predicted values for Maryland in each month of 2015\n",
    "# first we use the y2015 data and filter for the State Name 'Maryland'\n",
    "\n",
    "MDy2015= y2015.loc[y2015['State Name']=='Maryland']\n",
    "\n",
    "# then let's see the average 'Predicted Value' for each month in 2015 for Maryland:\n",
    "\n",
    "MD_y2015 = MDy2015[['Month','Predicted Value']].groupby(['Month']).agg('mean')\n",
    "MD_y2015"
   ]
  },
  {
   "cell_type": "code",
   "execution_count": 37,
   "metadata": {},
   "outputs": [
    {
     "data": {
      "text/plain": [
       "Text(0.5, 1.0, 'Maryland Avg. Predicted Values for Months in 2015')"
      ]
     },
     "execution_count": 37,
     "metadata": {},
     "output_type": "execute_result"
    },
    {
     "data": {
      "image/png": "[encoded data removed]",
      "text/plain": [
       "<Figure size 432x288 with 1 Axes>"
      ]
     },
     "metadata": {
      "needs_background": "light"
     },
     "output_type": "display_data"
    }
   ],
   "source": [
    "# let's try visualizing that:\n",
    "# note that we may need to reset index if we want to use an index as a graph variable\n",
    "\n",
    "MD1_y2015 = MD_y2015.reset_index()\n",
    "graph = MD1_y2015.plot.bar(x='Month', y='Predicted Value')\n",
    "graph.set_ylabel('Avg. Predicted Value')\n",
    "graph.set_xlabel('Month')\n",
    "graph.set_title('Maryland Avg. Predicted Values for Months in 2015')"
   ]
  },
  {
   "cell_type": "markdown",
   "metadata": {},
   "source": [
    "*Finding the amount of each drug overdose per month in 2016*"
   ]
  },
  {
   "cell_type": "code",
   "execution_count": 49,
   "metadata": {},
   "outputs": [
    {
     "data": {
      "text/html": [
       "<div>\n",
       "<style scoped>\n",
       "    .dataframe tbody tr th:only-of-type {\n",
       "        vertical-align: middle;\n",
       "    }\n",
       "\n",
       "    .dataframe tbody tr th {\n",
       "        vertical-align: top;\n",
       "    }\n",
       "\n",
       "    .dataframe thead th {\n",
       "        text-align: right;\n",
       "    }\n",
       "</style>\n",
       "<table border=\"1\" class=\"dataframe\">\n",
       "  <thead>\n",
       "    <tr style=\"text-align: right;\">\n",
       "      <th></th>\n",
       "      <th></th>\n",
       "      <th>Predicted Value</th>\n",
       "    </tr>\n",
       "    <tr>\n",
       "      <th>Indicator</th>\n",
       "      <th>Month</th>\n",
       "      <th></th>\n",
       "    </tr>\n",
       "  </thead>\n",
       "  <tbody>\n",
       "    <tr>\n",
       "      <th rowspan=\"5\" valign=\"top\">Cocaine (T40.5)</th>\n",
       "      <th>April</th>\n",
       "      <td>12400</td>\n",
       "    </tr>\n",
       "    <tr>\n",
       "      <th>August</th>\n",
       "      <td>14517</td>\n",
       "    </tr>\n",
       "    <tr>\n",
       "      <th>December</th>\n",
       "      <td>16916</td>\n",
       "    </tr>\n",
       "    <tr>\n",
       "      <th>February</th>\n",
       "      <td>11680</td>\n",
       "    </tr>\n",
       "    <tr>\n",
       "      <th>January</th>\n",
       "      <td>11266</td>\n",
       "    </tr>\n",
       "    <tr>\n",
       "      <th>...</th>\n",
       "      <th>...</th>\n",
       "      <td>...</td>\n",
       "    </tr>\n",
       "    <tr>\n",
       "      <th rowspan=\"5\" valign=\"top\">Synthetic opioids, excl. methadone (T40.4)</th>\n",
       "      <th>March</th>\n",
       "      <td>19189</td>\n",
       "    </tr>\n",
       "    <tr>\n",
       "      <th>May</th>\n",
       "      <td>21771</td>\n",
       "    </tr>\n",
       "    <tr>\n",
       "      <th>November</th>\n",
       "      <td>30487</td>\n",
       "    </tr>\n",
       "    <tr>\n",
       "      <th>October</th>\n",
       "      <td>28705</td>\n",
       "    </tr>\n",
       "    <tr>\n",
       "      <th>September</th>\n",
       "      <td>27375</td>\n",
       "    </tr>\n",
       "  </tbody>\n",
       "</table>\n",
       "<p>120 rows × 1 columns</p>\n",
       "</div>"
      ],
      "text/plain": [
       "                                                      Predicted Value\n",
       "Indicator                                  Month                     \n",
       "Cocaine (T40.5)                            April                12400\n",
       "                                           August               14517\n",
       "                                           December             16916\n",
       "                                           February             11680\n",
       "                                           January              11266\n",
       "...                                                               ...\n",
       "Synthetic opioids, excl. methadone (T40.4) March                19189\n",
       "                                           May                  21771\n",
       "                                           November             30487\n",
       "                                           October              28705\n",
       "                                           September            27375\n",
       "\n",
       "[120 rows x 1 columns]"
      ]
     },
     "execution_count": 49,
     "metadata": {},
     "output_type": "execute_result"
    }
   ],
   "source": [
    "# let's try to see what the count for each drug overdose was for each month in 2016\n",
    "\n",
    "pvt_y2016 = y2016[['Month', 'Indicator','Predicted Value']].groupby(['Indicator','Month']).agg('sum')\n",
    "pvt_y2016"
   ]
  },
  {
   "cell_type": "code",
   "execution_count": 52,
   "metadata": {},
   "outputs": [
    {
     "data": {
      "text/html": [
       "<div>\n",
       "<style scoped>\n",
       "    .dataframe tbody tr th:only-of-type {\n",
       "        vertical-align: middle;\n",
       "    }\n",
       "\n",
       "    .dataframe tbody tr th {\n",
       "        vertical-align: top;\n",
       "    }\n",
       "\n",
       "    .dataframe thead th {\n",
       "        text-align: right;\n",
       "    }\n",
       "</style>\n",
       "<table border=\"1\" class=\"dataframe\">\n",
       "  <thead>\n",
       "    <tr style=\"text-align: right;\">\n",
       "      <th></th>\n",
       "      <th></th>\n",
       "      <th>Predicted Value</th>\n",
       "    </tr>\n",
       "    <tr>\n",
       "      <th>Indicator</th>\n",
       "      <th>Month</th>\n",
       "      <th></th>\n",
       "    </tr>\n",
       "  </thead>\n",
       "  <tbody>\n",
       "    <tr>\n",
       "      <th>Cocaine (T40.5)</th>\n",
       "      <th>January</th>\n",
       "      <td>11266</td>\n",
       "    </tr>\n",
       "    <tr>\n",
       "      <th>Heroin (T40.1)</th>\n",
       "      <th>January</th>\n",
       "      <td>21169</td>\n",
       "    </tr>\n",
       "    <tr>\n",
       "      <th>Methadone (T40.3)</th>\n",
       "      <th>January</th>\n",
       "      <td>5091</td>\n",
       "    </tr>\n",
       "    <tr>\n",
       "      <th>Natural &amp; semi-synthetic opioids (T40.2)</th>\n",
       "      <th>January</th>\n",
       "      <td>20059</td>\n",
       "    </tr>\n",
       "    <tr>\n",
       "      <th>Natural &amp; semi-synthetic opioids, incl. methadone (T40.2, T40.3)</th>\n",
       "      <th>January</th>\n",
       "      <td>24009</td>\n",
       "    </tr>\n",
       "    <tr>\n",
       "      <th>Natural, semi-synthetic, &amp; synthetic opioids, incl. methadone (T40.2-T40.4)</th>\n",
       "      <th>January</th>\n",
       "      <td>36922</td>\n",
       "    </tr>\n",
       "    <tr>\n",
       "      <th>Number of Drug Overdose Deaths</th>\n",
       "      <th>January</th>\n",
       "      <td>107370</td>\n",
       "    </tr>\n",
       "    <tr>\n",
       "      <th>Opioids (T40.0-T40.4,T40.6)</th>\n",
       "      <th>January</th>\n",
       "      <td>53374</td>\n",
       "    </tr>\n",
       "    <tr>\n",
       "      <th>Psychostimulants with abuse potential (T43.6)</th>\n",
       "      <th>January</th>\n",
       "      <td>8282</td>\n",
       "    </tr>\n",
       "    <tr>\n",
       "      <th>Synthetic opioids, excl. methadone (T40.4)</th>\n",
       "      <th>January</th>\n",
       "      <td>16753</td>\n",
       "    </tr>\n",
       "  </tbody>\n",
       "</table>\n",
       "</div>"
      ],
      "text/plain": [
       "                                                            Predicted Value\n",
       "Indicator                                          Month                   \n",
       "Cocaine (T40.5)                                    January            11266\n",
       "Heroin (T40.1)                                     January            21169\n",
       "Methadone (T40.3)                                  January             5091\n",
       "Natural & semi-synthetic opioids (T40.2)           January            20059\n",
       "Natural & semi-synthetic opioids, incl. methado... January            24009\n",
       "Natural, semi-synthetic, & synthetic opioids, i... January            36922\n",
       "Number of Drug Overdose Deaths                     January           107370\n",
       "Opioids (T40.0-T40.4,T40.6)                        January            53374\n",
       "Psychostimulants with abuse potential (T43.6)      January             8282\n",
       "Synthetic opioids, excl. methadone (T40.4)         January            16753"
      ]
     },
     "execution_count": 52,
     "metadata": {},
     "output_type": "execute_result"
    }
   ],
   "source": [
    "# filtering down to a certain month (January)\n",
    "\n",
    "janpvt_y2016 = y2016.loc[y2016['Month']=='January']\n",
    "janpvt_y2016\n",
    "janpvt1_y2016 = janpvt_y2016[['Month', 'Indicator','Predicted Value']].groupby(['Indicator','Month']).agg('sum')\n",
    "janpvt1_y2016"
   ]
  },
  {
   "cell_type": "code",
   "execution_count": 54,
   "metadata": {},
   "outputs": [
    {
     "data": {
      "text/html": [
       "<div>\n",
       "<style scoped>\n",
       "    .dataframe tbody tr th:only-of-type {\n",
       "        vertical-align: middle;\n",
       "    }\n",
       "\n",
       "    .dataframe tbody tr th {\n",
       "        vertical-align: top;\n",
       "    }\n",
       "\n",
       "    .dataframe thead th {\n",
       "        text-align: right;\n",
       "    }\n",
       "</style>\n",
       "<table border=\"1\" class=\"dataframe\">\n",
       "  <thead>\n",
       "    <tr style=\"text-align: right;\">\n",
       "      <th></th>\n",
       "      <th></th>\n",
       "      <th>Predicted Value</th>\n",
       "    </tr>\n",
       "    <tr>\n",
       "      <th>Indicator</th>\n",
       "      <th>Month</th>\n",
       "      <th></th>\n",
       "    </tr>\n",
       "  </thead>\n",
       "  <tbody>\n",
       "    <tr>\n",
       "      <th>Number of Drug Overdose Deaths</th>\n",
       "      <th>January</th>\n",
       "      <td>107370</td>\n",
       "    </tr>\n",
       "    <tr>\n",
       "      <th>Opioids (T40.0-T40.4,T40.6)</th>\n",
       "      <th>January</th>\n",
       "      <td>53374</td>\n",
       "    </tr>\n",
       "    <tr>\n",
       "      <th>Natural, semi-synthetic, &amp; synthetic opioids, incl. methadone (T40.2-T40.4)</th>\n",
       "      <th>January</th>\n",
       "      <td>36922</td>\n",
       "    </tr>\n",
       "    <tr>\n",
       "      <th>Natural &amp; semi-synthetic opioids, incl. methadone (T40.2, T40.3)</th>\n",
       "      <th>January</th>\n",
       "      <td>24009</td>\n",
       "    </tr>\n",
       "    <tr>\n",
       "      <th>Heroin (T40.1)</th>\n",
       "      <th>January</th>\n",
       "      <td>21169</td>\n",
       "    </tr>\n",
       "    <tr>\n",
       "      <th>Natural &amp; semi-synthetic opioids (T40.2)</th>\n",
       "      <th>January</th>\n",
       "      <td>20059</td>\n",
       "    </tr>\n",
       "    <tr>\n",
       "      <th>Synthetic opioids, excl. methadone (T40.4)</th>\n",
       "      <th>January</th>\n",
       "      <td>16753</td>\n",
       "    </tr>\n",
       "    <tr>\n",
       "      <th>Cocaine (T40.5)</th>\n",
       "      <th>January</th>\n",
       "      <td>11266</td>\n",
       "    </tr>\n",
       "    <tr>\n",
       "      <th>Psychostimulants with abuse potential (T43.6)</th>\n",
       "      <th>January</th>\n",
       "      <td>8282</td>\n",
       "    </tr>\n",
       "    <tr>\n",
       "      <th>Methadone (T40.3)</th>\n",
       "      <th>January</th>\n",
       "      <td>5091</td>\n",
       "    </tr>\n",
       "  </tbody>\n",
       "</table>\n",
       "</div>"
      ],
      "text/plain": [
       "                                                            Predicted Value\n",
       "Indicator                                          Month                   \n",
       "Number of Drug Overdose Deaths                     January           107370\n",
       "Opioids (T40.0-T40.4,T40.6)                        January            53374\n",
       "Natural, semi-synthetic, & synthetic opioids, i... January            36922\n",
       "Natural & semi-synthetic opioids, incl. methado... January            24009\n",
       "Heroin (T40.1)                                     January            21169\n",
       "Natural & semi-synthetic opioids (T40.2)           January            20059\n",
       "Synthetic opioids, excl. methadone (T40.4)         January            16753\n",
       "Cocaine (T40.5)                                    January            11266\n",
       "Psychostimulants with abuse potential (T43.6)      January             8282\n",
       "Methadone (T40.3)                                  January             5091"
      ]
     },
     "execution_count": 54,
     "metadata": {},
     "output_type": "execute_result"
    }
   ],
   "source": [
    "# sorting January indicator/predicted values \n",
    "\n",
    "janpvt1_y2016sort= janpvt1_y2016.sort_values(by=['Predicted Value'], ascending=False)\n",
    "janpvt1_y2016sort"
   ]
  },
  {
   "cell_type": "code",
   "execution_count": 55,
   "metadata": {},
   "outputs": [
    {
     "data": {
      "text/plain": [
       "Text(0.5, 1.0, 'Sum of Indicators for January 2016')"
      ]
     },
     "execution_count": 55,
     "metadata": {},
     "output_type": "execute_result"
    },
    {
     "data": {
      "image/png": "[encoded data removed]",
      "text/plain": [
       "<Figure size 432x288 with 1 Axes>"
      ]
     },
     "metadata": {
      "needs_background": "light"
     },
     "output_type": "display_data"
    }
   ],
   "source": [
    "# let's try visualizing that:\n",
    "# note that we may need to reset index if we want to use an index as a graph variable\n",
    "\n",
    "janpvt1_y2016sort1 = janpvt1_y2016sort.reset_index()\n",
    "graph = janpvt1_y2016sort1.plot.bar(x='Indicator', y='Predicted Value')\n",
    "graph.set_ylabel('Sum Predicted Value')\n",
    "graph.set_xlabel('Indicator')\n",
    "graph.set_title('Sum of Indicators for January 2016')"
   ]
  },
  {
   "cell_type": "code",
   "execution_count": null,
   "metadata": {},
   "outputs": [],
   "source": []
  }
 ],
 "metadata": {
  "kernelspec": {
   "display_name": "Python 3",
   "language": "python",
   "name": "python3"
  },
  "language_info": {
   "codemirror_mode": {
    "name": "ipython",
    "version": 3
   },
   "file_extension": ".py",
   "mimetype": "text/x-python",
   "name": "python",
   "nbconvert_exporter": "python",
   "pygments_lexer": "ipython3",
   "version": "3.8.3"
  }
 },
 "nbformat": 4,
 "nbformat_minor": 4
}
